{
 "cells": [
  {
   "cell_type": "code",
   "execution_count": 1,
   "id": "c819f44b",
   "metadata": {
    "_cell_guid": "b1076dfc-b9ad-4769-8c92-a6c4dae69d19",
    "_uuid": "8f2839f25d086af736a60e9eeb907d3b93b6e0e5",
    "execution": {
     "iopub.execute_input": "2023-02-19T14:33:07.871914Z",
     "iopub.status.busy": "2023-02-19T14:33:07.871450Z",
     "iopub.status.idle": "2023-02-19T14:33:07.890651Z",
     "shell.execute_reply": "2023-02-19T14:33:07.889275Z"
    },
    "papermill": {
     "duration": 0.033183,
     "end_time": "2023-02-19T14:33:07.893643",
     "exception": false,
     "start_time": "2023-02-19T14:33:07.860460",
     "status": "completed"
    },
    "tags": []
   },
   "outputs": [
    {
     "name": "stdout",
     "output_type": "stream",
     "text": [
      "/kaggle/input/diabetes-data-set/diabetes.csv\n"
     ]
    }
   ],
   "source": [
    "# This Python 3 environment comes with many helpful analytics libraries installed\n",
    "# It is defined by the kaggle/python Docker image: https://github.com/kaggle/docker-python\n",
    "# For example, here's several helpful packages to load\n",
    "\n",
    "import numpy as np # linear algebra\n",
    "import pandas as pd # data processing, CSV file I/O (e.g. pd.read_csv)\n",
    "\n",
    "# Input data files are available in the read-only \"../input/\" directory\n",
    "# For example, running this (by clicking run or pressing Shift+Enter) will list all files under the input directory\n",
    "\n",
    "import os\n",
    "for dirname, _, filenames in os.walk('/kaggle/input'):\n",
    "    for filename in filenames:\n",
    "        print(os.path.join(dirname, filename))\n",
    "\n",
    "# You can write up to 20GB to the current directory (/kaggle/working/) that gets preserved as output when you create a version using \"Save & Run All\" \n",
    "# You can also write temporary files to /kaggle/temp/, but they won't be saved outside of the current session"
   ]
  },
  {
   "cell_type": "code",
   "execution_count": 2,
   "id": "5169e58b",
   "metadata": {
    "execution": {
     "iopub.execute_input": "2023-02-19T14:33:07.911724Z",
     "iopub.status.busy": "2023-02-19T14:33:07.911298Z",
     "iopub.status.idle": "2023-02-19T14:33:07.932433Z",
     "shell.execute_reply": "2023-02-19T14:33:07.931387Z"
    },
    "papermill": {
     "duration": 0.033196,
     "end_time": "2023-02-19T14:33:07.935077",
     "exception": false,
     "start_time": "2023-02-19T14:33:07.901881",
     "status": "completed"
    },
    "tags": []
   },
   "outputs": [],
   "source": [
    "df = pd.read_csv('/kaggle/input/diabetes-data-set/diabetes.csv')"
   ]
  },
  {
   "cell_type": "code",
   "execution_count": 3,
   "id": "6fd674a2",
   "metadata": {
    "execution": {
     "iopub.execute_input": "2023-02-19T14:33:07.953186Z",
     "iopub.status.busy": "2023-02-19T14:33:07.952756Z",
     "iopub.status.idle": "2023-02-19T14:33:07.975657Z",
     "shell.execute_reply": "2023-02-19T14:33:07.974332Z"
    },
    "papermill": {
     "duration": 0.034982,
     "end_time": "2023-02-19T14:33:07.978248",
     "exception": false,
     "start_time": "2023-02-19T14:33:07.943266",
     "status": "completed"
    },
    "tags": []
   },
   "outputs": [
    {
     "data": {
      "text/html": [
       "<div>\n",
       "<style scoped>\n",
       "    .dataframe tbody tr th:only-of-type {\n",
       "        vertical-align: middle;\n",
       "    }\n",
       "\n",
       "    .dataframe tbody tr th {\n",
       "        vertical-align: top;\n",
       "    }\n",
       "\n",
       "    .dataframe thead th {\n",
       "        text-align: right;\n",
       "    }\n",
       "</style>\n",
       "<table border=\"1\" class=\"dataframe\">\n",
       "  <thead>\n",
       "    <tr style=\"text-align: right;\">\n",
       "      <th></th>\n",
       "      <th>Pregnancies</th>\n",
       "      <th>Glucose</th>\n",
       "      <th>BloodPressure</th>\n",
       "      <th>SkinThickness</th>\n",
       "      <th>Insulin</th>\n",
       "      <th>BMI</th>\n",
       "      <th>DiabetesPedigreeFunction</th>\n",
       "      <th>Age</th>\n",
       "      <th>Outcome</th>\n",
       "    </tr>\n",
       "  </thead>\n",
       "  <tbody>\n",
       "    <tr>\n",
       "      <th>0</th>\n",
       "      <td>6</td>\n",
       "      <td>148</td>\n",
       "      <td>72</td>\n",
       "      <td>35</td>\n",
       "      <td>0</td>\n",
       "      <td>33.6</td>\n",
       "      <td>0.627</td>\n",
       "      <td>50</td>\n",
       "      <td>1</td>\n",
       "    </tr>\n",
       "    <tr>\n",
       "      <th>1</th>\n",
       "      <td>1</td>\n",
       "      <td>85</td>\n",
       "      <td>66</td>\n",
       "      <td>29</td>\n",
       "      <td>0</td>\n",
       "      <td>26.6</td>\n",
       "      <td>0.351</td>\n",
       "      <td>31</td>\n",
       "      <td>0</td>\n",
       "    </tr>\n",
       "  </tbody>\n",
       "</table>\n",
       "</div>"
      ],
      "text/plain": [
       "   Pregnancies  Glucose  BloodPressure  SkinThickness  Insulin   BMI  \\\n",
       "0            6      148             72             35        0  33.6   \n",
       "1            1       85             66             29        0  26.6   \n",
       "\n",
       "   DiabetesPedigreeFunction  Age  Outcome  \n",
       "0                     0.627   50        1  \n",
       "1                     0.351   31        0  "
      ]
     },
     "execution_count": 3,
     "metadata": {},
     "output_type": "execute_result"
    }
   ],
   "source": [
    "df.head(2)"
   ]
  },
  {
   "cell_type": "code",
   "execution_count": 4,
   "id": "6771bdf8",
   "metadata": {
    "execution": {
     "iopub.execute_input": "2023-02-19T14:33:07.996844Z",
     "iopub.status.busy": "2023-02-19T14:33:07.996404Z",
     "iopub.status.idle": "2023-02-19T14:33:08.022649Z",
     "shell.execute_reply": "2023-02-19T14:33:08.021249Z"
    },
    "papermill": {
     "duration": 0.0389,
     "end_time": "2023-02-19T14:33:08.025588",
     "exception": false,
     "start_time": "2023-02-19T14:33:07.986688",
     "status": "completed"
    },
    "tags": []
   },
   "outputs": [
    {
     "name": "stdout",
     "output_type": "stream",
     "text": [
      "<class 'pandas.core.frame.DataFrame'>\n",
      "RangeIndex: 768 entries, 0 to 767\n",
      "Data columns (total 9 columns):\n",
      " #   Column                    Non-Null Count  Dtype  \n",
      "---  ------                    --------------  -----  \n",
      " 0   Pregnancies               768 non-null    int64  \n",
      " 1   Glucose                   768 non-null    int64  \n",
      " 2   BloodPressure             768 non-null    int64  \n",
      " 3   SkinThickness             768 non-null    int64  \n",
      " 4   Insulin                   768 non-null    int64  \n",
      " 5   BMI                       768 non-null    float64\n",
      " 6   DiabetesPedigreeFunction  768 non-null    float64\n",
      " 7   Age                       768 non-null    int64  \n",
      " 8   Outcome                   768 non-null    int64  \n",
      "dtypes: float64(2), int64(7)\n",
      "memory usage: 54.1 KB\n"
     ]
    }
   ],
   "source": [
    "df.info()"
   ]
  },
  {
   "cell_type": "code",
   "execution_count": 5,
   "id": "a9edc861",
   "metadata": {
    "execution": {
     "iopub.execute_input": "2023-02-19T14:33:08.044300Z",
     "iopub.status.busy": "2023-02-19T14:33:08.043837Z",
     "iopub.status.idle": "2023-02-19T14:33:08.090617Z",
     "shell.execute_reply": "2023-02-19T14:33:08.088273Z"
    },
    "papermill": {
     "duration": 0.060001,
     "end_time": "2023-02-19T14:33:08.094120",
     "exception": false,
     "start_time": "2023-02-19T14:33:08.034119",
     "status": "completed"
    },
    "tags": []
   },
   "outputs": [
    {
     "data": {
      "text/html": [
       "<div>\n",
       "<style scoped>\n",
       "    .dataframe tbody tr th:only-of-type {\n",
       "        vertical-align: middle;\n",
       "    }\n",
       "\n",
       "    .dataframe tbody tr th {\n",
       "        vertical-align: top;\n",
       "    }\n",
       "\n",
       "    .dataframe thead th {\n",
       "        text-align: right;\n",
       "    }\n",
       "</style>\n",
       "<table border=\"1\" class=\"dataframe\">\n",
       "  <thead>\n",
       "    <tr style=\"text-align: right;\">\n",
       "      <th></th>\n",
       "      <th>count</th>\n",
       "      <th>mean</th>\n",
       "      <th>std</th>\n",
       "      <th>min</th>\n",
       "      <th>25%</th>\n",
       "      <th>50%</th>\n",
       "      <th>75%</th>\n",
       "      <th>max</th>\n",
       "    </tr>\n",
       "  </thead>\n",
       "  <tbody>\n",
       "    <tr>\n",
       "      <th>Pregnancies</th>\n",
       "      <td>768.0</td>\n",
       "      <td>3.845052</td>\n",
       "      <td>3.369578</td>\n",
       "      <td>0.000</td>\n",
       "      <td>1.00000</td>\n",
       "      <td>3.0000</td>\n",
       "      <td>6.00000</td>\n",
       "      <td>17.00</td>\n",
       "    </tr>\n",
       "    <tr>\n",
       "      <th>Glucose</th>\n",
       "      <td>768.0</td>\n",
       "      <td>120.894531</td>\n",
       "      <td>31.972618</td>\n",
       "      <td>0.000</td>\n",
       "      <td>99.00000</td>\n",
       "      <td>117.0000</td>\n",
       "      <td>140.25000</td>\n",
       "      <td>199.00</td>\n",
       "    </tr>\n",
       "    <tr>\n",
       "      <th>BloodPressure</th>\n",
       "      <td>768.0</td>\n",
       "      <td>69.105469</td>\n",
       "      <td>19.355807</td>\n",
       "      <td>0.000</td>\n",
       "      <td>62.00000</td>\n",
       "      <td>72.0000</td>\n",
       "      <td>80.00000</td>\n",
       "      <td>122.00</td>\n",
       "    </tr>\n",
       "    <tr>\n",
       "      <th>SkinThickness</th>\n",
       "      <td>768.0</td>\n",
       "      <td>20.536458</td>\n",
       "      <td>15.952218</td>\n",
       "      <td>0.000</td>\n",
       "      <td>0.00000</td>\n",
       "      <td>23.0000</td>\n",
       "      <td>32.00000</td>\n",
       "      <td>99.00</td>\n",
       "    </tr>\n",
       "    <tr>\n",
       "      <th>Insulin</th>\n",
       "      <td>768.0</td>\n",
       "      <td>79.799479</td>\n",
       "      <td>115.244002</td>\n",
       "      <td>0.000</td>\n",
       "      <td>0.00000</td>\n",
       "      <td>30.5000</td>\n",
       "      <td>127.25000</td>\n",
       "      <td>846.00</td>\n",
       "    </tr>\n",
       "    <tr>\n",
       "      <th>BMI</th>\n",
       "      <td>768.0</td>\n",
       "      <td>31.992578</td>\n",
       "      <td>7.884160</td>\n",
       "      <td>0.000</td>\n",
       "      <td>27.30000</td>\n",
       "      <td>32.0000</td>\n",
       "      <td>36.60000</td>\n",
       "      <td>67.10</td>\n",
       "    </tr>\n",
       "    <tr>\n",
       "      <th>DiabetesPedigreeFunction</th>\n",
       "      <td>768.0</td>\n",
       "      <td>0.471876</td>\n",
       "      <td>0.331329</td>\n",
       "      <td>0.078</td>\n",
       "      <td>0.24375</td>\n",
       "      <td>0.3725</td>\n",
       "      <td>0.62625</td>\n",
       "      <td>2.42</td>\n",
       "    </tr>\n",
       "    <tr>\n",
       "      <th>Age</th>\n",
       "      <td>768.0</td>\n",
       "      <td>33.240885</td>\n",
       "      <td>11.760232</td>\n",
       "      <td>21.000</td>\n",
       "      <td>24.00000</td>\n",
       "      <td>29.0000</td>\n",
       "      <td>41.00000</td>\n",
       "      <td>81.00</td>\n",
       "    </tr>\n",
       "    <tr>\n",
       "      <th>Outcome</th>\n",
       "      <td>768.0</td>\n",
       "      <td>0.348958</td>\n",
       "      <td>0.476951</td>\n",
       "      <td>0.000</td>\n",
       "      <td>0.00000</td>\n",
       "      <td>0.0000</td>\n",
       "      <td>1.00000</td>\n",
       "      <td>1.00</td>\n",
       "    </tr>\n",
       "  </tbody>\n",
       "</table>\n",
       "</div>"
      ],
      "text/plain": [
       "                          count        mean         std     min       25%  \\\n",
       "Pregnancies               768.0    3.845052    3.369578   0.000   1.00000   \n",
       "Glucose                   768.0  120.894531   31.972618   0.000  99.00000   \n",
       "BloodPressure             768.0   69.105469   19.355807   0.000  62.00000   \n",
       "SkinThickness             768.0   20.536458   15.952218   0.000   0.00000   \n",
       "Insulin                   768.0   79.799479  115.244002   0.000   0.00000   \n",
       "BMI                       768.0   31.992578    7.884160   0.000  27.30000   \n",
       "DiabetesPedigreeFunction  768.0    0.471876    0.331329   0.078   0.24375   \n",
       "Age                       768.0   33.240885   11.760232  21.000  24.00000   \n",
       "Outcome                   768.0    0.348958    0.476951   0.000   0.00000   \n",
       "\n",
       "                               50%        75%     max  \n",
       "Pregnancies                 3.0000    6.00000   17.00  \n",
       "Glucose                   117.0000  140.25000  199.00  \n",
       "BloodPressure              72.0000   80.00000  122.00  \n",
       "SkinThickness              23.0000   32.00000   99.00  \n",
       "Insulin                    30.5000  127.25000  846.00  \n",
       "BMI                        32.0000   36.60000   67.10  \n",
       "DiabetesPedigreeFunction    0.3725    0.62625    2.42  \n",
       "Age                        29.0000   41.00000   81.00  \n",
       "Outcome                     0.0000    1.00000    1.00  "
      ]
     },
     "execution_count": 5,
     "metadata": {},
     "output_type": "execute_result"
    }
   ],
   "source": [
    "df.describe().T"
   ]
  },
  {
   "cell_type": "code",
   "execution_count": 6,
   "id": "e9650410",
   "metadata": {
    "execution": {
     "iopub.execute_input": "2023-02-19T14:33:08.115930Z",
     "iopub.status.busy": "2023-02-19T14:33:08.115184Z",
     "iopub.status.idle": "2023-02-19T14:33:08.124083Z",
     "shell.execute_reply": "2023-02-19T14:33:08.123045Z"
    },
    "papermill": {
     "duration": 0.022051,
     "end_time": "2023-02-19T14:33:08.126390",
     "exception": false,
     "start_time": "2023-02-19T14:33:08.104339",
     "status": "completed"
    },
    "tags": []
   },
   "outputs": [
    {
     "data": {
      "text/plain": [
       "Pregnancies                 0\n",
       "Glucose                     0\n",
       "BloodPressure               0\n",
       "SkinThickness               0\n",
       "Insulin                     0\n",
       "BMI                         0\n",
       "DiabetesPedigreeFunction    0\n",
       "Age                         0\n",
       "Outcome                     0\n",
       "dtype: int64"
      ]
     },
     "execution_count": 6,
     "metadata": {},
     "output_type": "execute_result"
    }
   ],
   "source": [
    "df.isnull().sum()"
   ]
  },
  {
   "cell_type": "code",
   "execution_count": 7,
   "id": "38b5ab21",
   "metadata": {
    "execution": {
     "iopub.execute_input": "2023-02-19T14:33:08.146134Z",
     "iopub.status.busy": "2023-02-19T14:33:08.145366Z",
     "iopub.status.idle": "2023-02-19T14:33:09.347846Z",
     "shell.execute_reply": "2023-02-19T14:33:09.346529Z"
    },
    "papermill": {
     "duration": 1.215565,
     "end_time": "2023-02-19T14:33:09.350812",
     "exception": false,
     "start_time": "2023-02-19T14:33:08.135247",
     "status": "completed"
    },
    "tags": []
   },
   "outputs": [],
   "source": [
    "import seaborn as sns"
   ]
  },
  {
   "cell_type": "code",
   "execution_count": 8,
   "id": "70d11ef3",
   "metadata": {
    "execution": {
     "iopub.execute_input": "2023-02-19T14:33:09.370335Z",
     "iopub.status.busy": "2023-02-19T14:33:09.369893Z",
     "iopub.status.idle": "2023-02-19T14:33:10.049782Z",
     "shell.execute_reply": "2023-02-19T14:33:10.048498Z"
    },
    "papermill": {
     "duration": 0.692429,
     "end_time": "2023-02-19T14:33:10.052242",
     "exception": false,
     "start_time": "2023-02-19T14:33:09.359813",
     "status": "completed"
    },
    "tags": []
   },
   "outputs": [
    {
     "data": {
      "image/png": "[encoded data removed]",
      "text/plain": [
       "<Figure size 432x288 with 2 Axes>"
      ]
     },
     "metadata": {
      "needs_background": "light"
     },
     "output_type": "display_data"
    }
   ],
   "source": [
    "sns.heatmap(df.corr(),annot=True);"
   ]
  },
  {
   "cell_type": "code",
   "execution_count": 9,
   "id": "7af0f7be",
   "metadata": {
    "execution": {
     "iopub.execute_input": "2023-02-19T14:33:10.074078Z",
     "iopub.status.busy": "2023-02-19T14:33:10.073614Z",
     "iopub.status.idle": "2023-02-19T14:33:10.084519Z",
     "shell.execute_reply": "2023-02-19T14:33:10.083258Z"
    },
    "papermill": {
     "duration": 0.024965,
     "end_time": "2023-02-19T14:33:10.086916",
     "exception": false,
     "start_time": "2023-02-19T14:33:10.061951",
     "status": "completed"
    },
    "tags": []
   },
   "outputs": [
    {
     "data": {
      "text/plain": [
       "0    139\n",
       "1     88\n",
       "Name: Outcome, dtype: int64"
      ]
     },
     "execution_count": 9,
     "metadata": {},
     "output_type": "execute_result"
    }
   ],
   "source": [
    "df[df['SkinThickness']==0]['Outcome'].value_counts()"
   ]
  },
  {
   "cell_type": "code",
   "execution_count": 10,
   "id": "34a7e281",
   "metadata": {
    "execution": {
     "iopub.execute_input": "2023-02-19T14:33:10.111344Z",
     "iopub.status.busy": "2023-02-19T14:33:10.110479Z",
     "iopub.status.idle": "2023-02-19T14:33:10.130440Z",
     "shell.execute_reply": "2023-02-19T14:33:10.129297Z"
    },
    "papermill": {
     "duration": 0.034908,
     "end_time": "2023-02-19T14:33:10.133270",
     "exception": false,
     "start_time": "2023-02-19T14:33:10.098362",
     "status": "completed"
    },
    "tags": []
   },
   "outputs": [
    {
     "data": {
      "text/plain": [
       "SkinThickness  Outcome\n",
       "0              0          0.612335\n",
       "               1          0.387665\n",
       "7              0          0.500000\n",
       "               1          0.500000\n",
       "8              0          1.000000\n",
       "                            ...   \n",
       "54             0          1.000000\n",
       "56             1          1.000000\n",
       "60             0          1.000000\n",
       "63             1          1.000000\n",
       "99             1          1.000000\n",
       "Name: Outcome, Length: 89, dtype: float64"
      ]
     },
     "execution_count": 10,
     "metadata": {},
     "output_type": "execute_result"
    }
   ],
   "source": [
    "df.groupby(['SkinThickness'])['Outcome'].value_counts()/df.groupby(['SkinThickness'])['Outcome'].count()"
   ]
  },
  {
   "cell_type": "code",
   "execution_count": 11,
   "id": "cd5206ff",
   "metadata": {
    "execution": {
     "iopub.execute_input": "2023-02-19T14:33:10.155513Z",
     "iopub.status.busy": "2023-02-19T14:33:10.155024Z",
     "iopub.status.idle": "2023-02-19T14:33:10.163705Z",
     "shell.execute_reply": "2023-02-19T14:33:10.162692Z"
    },
    "papermill": {
     "duration": 0.022837,
     "end_time": "2023-02-19T14:33:10.166535",
     "exception": false,
     "start_time": "2023-02-19T14:33:10.143698",
     "status": "completed"
    },
    "tags": []
   },
   "outputs": [
    {
     "data": {
      "text/plain": [
       "Pregnancies                   int64\n",
       "Glucose                       int64\n",
       "BloodPressure                 int64\n",
       "SkinThickness                 int64\n",
       "Insulin                       int64\n",
       "BMI                         float64\n",
       "DiabetesPedigreeFunction    float64\n",
       "Age                           int64\n",
       "Outcome                       int64\n",
       "dtype: object"
      ]
     },
     "execution_count": 11,
     "metadata": {},
     "output_type": "execute_result"
    }
   ],
   "source": [
    "df.dtypes"
   ]
  },
  {
   "cell_type": "code",
   "execution_count": 12,
   "id": "8c9c7ead",
   "metadata": {
    "execution": {
     "iopub.execute_input": "2023-02-19T14:33:10.189757Z",
     "iopub.status.busy": "2023-02-19T14:33:10.189327Z",
     "iopub.status.idle": "2023-02-19T14:33:10.199653Z",
     "shell.execute_reply": "2023-02-19T14:33:10.198763Z"
    },
    "papermill": {
     "duration": 0.025997,
     "end_time": "2023-02-19T14:33:10.202979",
     "exception": false,
     "start_time": "2023-02-19T14:33:10.176982",
     "status": "completed"
    },
    "tags": []
   },
   "outputs": [
    {
     "name": "stdout",
     "output_type": "stream",
     "text": [
      "Pregnancies   mean   3.8450520833333335    median   3.0\n",
      "Glucose   mean   120.89453125    median   117.0\n",
      "BloodPressure   mean   69.10546875    median   72.0\n",
      "SkinThickness   mean   20.536458333333332    median   23.0\n",
      "Insulin   mean   79.79947916666667    median   30.5\n",
      "BMI   mean   31.992578124999998    median   32.0\n",
      "DiabetesPedigreeFunction   mean   0.47187630208333325    median   0.3725\n",
      "Age   mean   33.240885416666664    median   29.0\n",
      "Outcome   mean   0.3489583333333333    median   0.0\n"
     ]
    }
   ],
   "source": [
    "for i in df.columns:\n",
    "    print(i,'  mean  ',df[i].mean(), '   median  ',  df[i].median())"
   ]
  },
  {
   "cell_type": "code",
   "execution_count": 13,
   "id": "225fb5e6",
   "metadata": {
    "execution": {
     "iopub.execute_input": "2023-02-19T14:33:10.226245Z",
     "iopub.status.busy": "2023-02-19T14:33:10.225311Z",
     "iopub.status.idle": "2023-02-19T14:33:10.231687Z",
     "shell.execute_reply": "2023-02-19T14:33:10.230741Z"
    },
    "papermill": {
     "duration": 0.020242,
     "end_time": "2023-02-19T14:33:10.233950",
     "exception": false,
     "start_time": "2023-02-19T14:33:10.213708",
     "status": "completed"
    },
    "tags": []
   },
   "outputs": [
    {
     "data": {
      "text/plain": [
       "Index(['Pregnancies', 'Glucose', 'BloodPressure', 'SkinThickness', 'Insulin',\n",
       "       'BMI', 'DiabetesPedigreeFunction', 'Age', 'Outcome'],\n",
       "      dtype='object')"
      ]
     },
     "execution_count": 13,
     "metadata": {},
     "output_type": "execute_result"
    }
   ],
   "source": [
    "df.columns"
   ]
  },
  {
   "cell_type": "code",
   "execution_count": 14,
   "id": "f66482fa",
   "metadata": {
    "execution": {
     "iopub.execute_input": "2023-02-19T14:33:10.256086Z",
     "iopub.status.busy": "2023-02-19T14:33:10.255669Z",
     "iopub.status.idle": "2023-02-19T14:33:10.266831Z",
     "shell.execute_reply": "2023-02-19T14:33:10.265613Z"
    },
    "papermill": {
     "duration": 0.025439,
     "end_time": "2023-02-19T14:33:10.269676",
     "exception": false,
     "start_time": "2023-02-19T14:33:10.244237",
     "status": "completed"
    },
    "tags": []
   },
   "outputs": [],
   "source": [
    "for i in ['Glucose', 'BloodPressure','Insulin','BMI']:\n",
    "    df[i] = df[i].replace({0.0:df[i].median()})"
   ]
  },
  {
   "cell_type": "code",
   "execution_count": 15,
   "id": "af32fe92",
   "metadata": {
    "execution": {
     "iopub.execute_input": "2023-02-19T14:33:10.291663Z",
     "iopub.status.busy": "2023-02-19T14:33:10.291234Z",
     "iopub.status.idle": "2023-02-19T14:33:10.334949Z",
     "shell.execute_reply": "2023-02-19T14:33:10.333709Z"
    },
    "papermill": {
     "duration": 0.05789,
     "end_time": "2023-02-19T14:33:10.337679",
     "exception": false,
     "start_time": "2023-02-19T14:33:10.279789",
     "status": "completed"
    },
    "tags": []
   },
   "outputs": [
    {
     "data": {
      "text/html": [
       "<div>\n",
       "<style scoped>\n",
       "    .dataframe tbody tr th:only-of-type {\n",
       "        vertical-align: middle;\n",
       "    }\n",
       "\n",
       "    .dataframe tbody tr th {\n",
       "        vertical-align: top;\n",
       "    }\n",
       "\n",
       "    .dataframe thead th {\n",
       "        text-align: right;\n",
       "    }\n",
       "</style>\n",
       "<table border=\"1\" class=\"dataframe\">\n",
       "  <thead>\n",
       "    <tr style=\"text-align: right;\">\n",
       "      <th></th>\n",
       "      <th>count</th>\n",
       "      <th>mean</th>\n",
       "      <th>std</th>\n",
       "      <th>min</th>\n",
       "      <th>25%</th>\n",
       "      <th>50%</th>\n",
       "      <th>75%</th>\n",
       "      <th>max</th>\n",
       "    </tr>\n",
       "  </thead>\n",
       "  <tbody>\n",
       "    <tr>\n",
       "      <th>Pregnancies</th>\n",
       "      <td>768.0</td>\n",
       "      <td>3.845052</td>\n",
       "      <td>3.369578</td>\n",
       "      <td>0.000</td>\n",
       "      <td>1.00000</td>\n",
       "      <td>3.0000</td>\n",
       "      <td>6.00000</td>\n",
       "      <td>17.00</td>\n",
       "    </tr>\n",
       "    <tr>\n",
       "      <th>Glucose</th>\n",
       "      <td>768.0</td>\n",
       "      <td>121.656250</td>\n",
       "      <td>30.438286</td>\n",
       "      <td>44.000</td>\n",
       "      <td>99.75000</td>\n",
       "      <td>117.0000</td>\n",
       "      <td>140.25000</td>\n",
       "      <td>199.00</td>\n",
       "    </tr>\n",
       "    <tr>\n",
       "      <th>BloodPressure</th>\n",
       "      <td>768.0</td>\n",
       "      <td>72.386719</td>\n",
       "      <td>12.096642</td>\n",
       "      <td>24.000</td>\n",
       "      <td>64.00000</td>\n",
       "      <td>72.0000</td>\n",
       "      <td>80.00000</td>\n",
       "      <td>122.00</td>\n",
       "    </tr>\n",
       "    <tr>\n",
       "      <th>SkinThickness</th>\n",
       "      <td>768.0</td>\n",
       "      <td>20.536458</td>\n",
       "      <td>15.952218</td>\n",
       "      <td>0.000</td>\n",
       "      <td>0.00000</td>\n",
       "      <td>23.0000</td>\n",
       "      <td>32.00000</td>\n",
       "      <td>99.00</td>\n",
       "    </tr>\n",
       "    <tr>\n",
       "      <th>Insulin</th>\n",
       "      <td>768.0</td>\n",
       "      <td>94.652344</td>\n",
       "      <td>105.547598</td>\n",
       "      <td>14.000</td>\n",
       "      <td>30.50000</td>\n",
       "      <td>31.2500</td>\n",
       "      <td>127.25000</td>\n",
       "      <td>846.00</td>\n",
       "    </tr>\n",
       "    <tr>\n",
       "      <th>BMI</th>\n",
       "      <td>768.0</td>\n",
       "      <td>32.450911</td>\n",
       "      <td>6.875366</td>\n",
       "      <td>18.200</td>\n",
       "      <td>27.50000</td>\n",
       "      <td>32.0000</td>\n",
       "      <td>36.60000</td>\n",
       "      <td>67.10</td>\n",
       "    </tr>\n",
       "    <tr>\n",
       "      <th>DiabetesPedigreeFunction</th>\n",
       "      <td>768.0</td>\n",
       "      <td>0.471876</td>\n",
       "      <td>0.331329</td>\n",
       "      <td>0.078</td>\n",
       "      <td>0.24375</td>\n",
       "      <td>0.3725</td>\n",
       "      <td>0.62625</td>\n",
       "      <td>2.42</td>\n",
       "    </tr>\n",
       "    <tr>\n",
       "      <th>Age</th>\n",
       "      <td>768.0</td>\n",
       "      <td>33.240885</td>\n",
       "      <td>11.760232</td>\n",
       "      <td>21.000</td>\n",
       "      <td>24.00000</td>\n",
       "      <td>29.0000</td>\n",
       "      <td>41.00000</td>\n",
       "      <td>81.00</td>\n",
       "    </tr>\n",
       "    <tr>\n",
       "      <th>Outcome</th>\n",
       "      <td>768.0</td>\n",
       "      <td>0.348958</td>\n",
       "      <td>0.476951</td>\n",
       "      <td>0.000</td>\n",
       "      <td>0.00000</td>\n",
       "      <td>0.0000</td>\n",
       "      <td>1.00000</td>\n",
       "      <td>1.00</td>\n",
       "    </tr>\n",
       "  </tbody>\n",
       "</table>\n",
       "</div>"
      ],
      "text/plain": [
       "                          count        mean         std     min       25%  \\\n",
       "Pregnancies               768.0    3.845052    3.369578   0.000   1.00000   \n",
       "Glucose                   768.0  121.656250   30.438286  44.000  99.75000   \n",
       "BloodPressure             768.0   72.386719   12.096642  24.000  64.00000   \n",
       "SkinThickness             768.0   20.536458   15.952218   0.000   0.00000   \n",
       "Insulin                   768.0   94.652344  105.547598  14.000  30.50000   \n",
       "BMI                       768.0   32.450911    6.875366  18.200  27.50000   \n",
       "DiabetesPedigreeFunction  768.0    0.471876    0.331329   0.078   0.24375   \n",
       "Age                       768.0   33.240885   11.760232  21.000  24.00000   \n",
       "Outcome                   768.0    0.348958    0.476951   0.000   0.00000   \n",
       "\n",
       "                               50%        75%     max  \n",
       "Pregnancies                 3.0000    6.00000   17.00  \n",
       "Glucose                   117.0000  140.25000  199.00  \n",
       "BloodPressure              72.0000   80.00000  122.00  \n",
       "SkinThickness              23.0000   32.00000   99.00  \n",
       "Insulin                    31.2500  127.25000  846.00  \n",
       "BMI                        32.0000   36.60000   67.10  \n",
       "DiabetesPedigreeFunction    0.3725    0.62625    2.42  \n",
       "Age                        29.0000   41.00000   81.00  \n",
       "Outcome                     0.0000    1.00000    1.00  "
      ]
     },
     "execution_count": 15,
     "metadata": {},
     "output_type": "execute_result"
    }
   ],
   "source": [
    "df.describe().T"
   ]
  },
  {
   "cell_type": "code",
   "execution_count": 16,
   "id": "baf6c5d0",
   "metadata": {
    "execution": {
     "iopub.execute_input": "2023-02-19T14:33:10.360552Z",
     "iopub.status.busy": "2023-02-19T14:33:10.360101Z",
     "iopub.status.idle": "2023-02-19T14:33:11.003898Z",
     "shell.execute_reply": "2023-02-19T14:33:11.002480Z"
    },
    "papermill": {
     "duration": 0.658966,
     "end_time": "2023-02-19T14:33:11.007026",
     "exception": false,
     "start_time": "2023-02-19T14:33:10.348060",
     "status": "completed"
    },
    "tags": []
   },
   "outputs": [
    {
     "data": {
      "image/png": "[encoded data removed]",
      "text/plain": [
       "<Figure size 432x288 with 2 Axes>"
      ]
     },
     "metadata": {
      "needs_background": "light"
     },
     "output_type": "display_data"
    }
   ],
   "source": [
    "sns.heatmap(df.corr(),annot=True);"
   ]
  },
  {
   "cell_type": "code",
   "execution_count": 17,
   "id": "7f3300d9",
   "metadata": {
    "execution": {
     "iopub.execute_input": "2023-02-19T14:33:11.032470Z",
     "iopub.status.busy": "2023-02-19T14:33:11.031288Z",
     "iopub.status.idle": "2023-02-19T14:33:11.038947Z",
     "shell.execute_reply": "2023-02-19T14:33:11.037622Z"
    },
    "papermill": {
     "duration": 0.023228,
     "end_time": "2023-02-19T14:33:11.042015",
     "exception": false,
     "start_time": "2023-02-19T14:33:11.018787",
     "status": "completed"
    },
    "tags": []
   },
   "outputs": [],
   "source": [
    "x = df.drop(columns = ['Outcome'])\n",
    "y = df.Outcome"
   ]
  },
  {
   "cell_type": "code",
   "execution_count": 18,
   "id": "466b7eb4",
   "metadata": {
    "execution": {
     "iopub.execute_input": "2023-02-19T14:33:11.066922Z",
     "iopub.status.busy": "2023-02-19T14:33:11.066517Z",
     "iopub.status.idle": "2023-02-19T14:33:11.089536Z",
     "shell.execute_reply": "2023-02-19T14:33:11.088285Z"
    },
    "papermill": {
     "duration": 0.03846,
     "end_time": "2023-02-19T14:33:11.092017",
     "exception": false,
     "start_time": "2023-02-19T14:33:11.053557",
     "status": "completed"
    },
    "tags": []
   },
   "outputs": [
    {
     "data": {
      "text/html": [
       "<div>\n",
       "<style scoped>\n",
       "    .dataframe tbody tr th:only-of-type {\n",
       "        vertical-align: middle;\n",
       "    }\n",
       "\n",
       "    .dataframe tbody tr th {\n",
       "        vertical-align: top;\n",
       "    }\n",
       "\n",
       "    .dataframe thead th {\n",
       "        text-align: right;\n",
       "    }\n",
       "</style>\n",
       "<table border=\"1\" class=\"dataframe\">\n",
       "  <thead>\n",
       "    <tr style=\"text-align: right;\">\n",
       "      <th></th>\n",
       "      <th>Pregnancies</th>\n",
       "      <th>Glucose</th>\n",
       "      <th>BloodPressure</th>\n",
       "      <th>SkinThickness</th>\n",
       "      <th>Insulin</th>\n",
       "      <th>BMI</th>\n",
       "      <th>DiabetesPedigreeFunction</th>\n",
       "      <th>Age</th>\n",
       "    </tr>\n",
       "  </thead>\n",
       "  <tbody>\n",
       "    <tr>\n",
       "      <th>0</th>\n",
       "      <td>6</td>\n",
       "      <td>148.0</td>\n",
       "      <td>72.0</td>\n",
       "      <td>35</td>\n",
       "      <td>30.5</td>\n",
       "      <td>33.6</td>\n",
       "      <td>0.627</td>\n",
       "      <td>50</td>\n",
       "    </tr>\n",
       "    <tr>\n",
       "      <th>1</th>\n",
       "      <td>1</td>\n",
       "      <td>85.0</td>\n",
       "      <td>66.0</td>\n",
       "      <td>29</td>\n",
       "      <td>30.5</td>\n",
       "      <td>26.6</td>\n",
       "      <td>0.351</td>\n",
       "      <td>31</td>\n",
       "    </tr>\n",
       "    <tr>\n",
       "      <th>2</th>\n",
       "      <td>8</td>\n",
       "      <td>183.0</td>\n",
       "      <td>64.0</td>\n",
       "      <td>0</td>\n",
       "      <td>30.5</td>\n",
       "      <td>23.3</td>\n",
       "      <td>0.672</td>\n",
       "      <td>32</td>\n",
       "    </tr>\n",
       "    <tr>\n",
       "      <th>3</th>\n",
       "      <td>1</td>\n",
       "      <td>89.0</td>\n",
       "      <td>66.0</td>\n",
       "      <td>23</td>\n",
       "      <td>94.0</td>\n",
       "      <td>28.1</td>\n",
       "      <td>0.167</td>\n",
       "      <td>21</td>\n",
       "    </tr>\n",
       "    <tr>\n",
       "      <th>4</th>\n",
       "      <td>0</td>\n",
       "      <td>137.0</td>\n",
       "      <td>40.0</td>\n",
       "      <td>35</td>\n",
       "      <td>168.0</td>\n",
       "      <td>43.1</td>\n",
       "      <td>2.288</td>\n",
       "      <td>33</td>\n",
       "    </tr>\n",
       "    <tr>\n",
       "      <th>...</th>\n",
       "      <td>...</td>\n",
       "      <td>...</td>\n",
       "      <td>...</td>\n",
       "      <td>...</td>\n",
       "      <td>...</td>\n",
       "      <td>...</td>\n",
       "      <td>...</td>\n",
       "      <td>...</td>\n",
       "    </tr>\n",
       "    <tr>\n",
       "      <th>763</th>\n",
       "      <td>10</td>\n",
       "      <td>101.0</td>\n",
       "      <td>76.0</td>\n",
       "      <td>48</td>\n",
       "      <td>180.0</td>\n",
       "      <td>32.9</td>\n",
       "      <td>0.171</td>\n",
       "      <td>63</td>\n",
       "    </tr>\n",
       "    <tr>\n",
       "      <th>764</th>\n",
       "      <td>2</td>\n",
       "      <td>122.0</td>\n",
       "      <td>70.0</td>\n",
       "      <td>27</td>\n",
       "      <td>30.5</td>\n",
       "      <td>36.8</td>\n",
       "      <td>0.340</td>\n",
       "      <td>27</td>\n",
       "    </tr>\n",
       "    <tr>\n",
       "      <th>765</th>\n",
       "      <td>5</td>\n",
       "      <td>121.0</td>\n",
       "      <td>72.0</td>\n",
       "      <td>23</td>\n",
       "      <td>112.0</td>\n",
       "      <td>26.2</td>\n",
       "      <td>0.245</td>\n",
       "      <td>30</td>\n",
       "    </tr>\n",
       "    <tr>\n",
       "      <th>766</th>\n",
       "      <td>1</td>\n",
       "      <td>126.0</td>\n",
       "      <td>60.0</td>\n",
       "      <td>0</td>\n",
       "      <td>30.5</td>\n",
       "      <td>30.1</td>\n",
       "      <td>0.349</td>\n",
       "      <td>47</td>\n",
       "    </tr>\n",
       "    <tr>\n",
       "      <th>767</th>\n",
       "      <td>1</td>\n",
       "      <td>93.0</td>\n",
       "      <td>70.0</td>\n",
       "      <td>31</td>\n",
       "      <td>30.5</td>\n",
       "      <td>30.4</td>\n",
       "      <td>0.315</td>\n",
       "      <td>23</td>\n",
       "    </tr>\n",
       "  </tbody>\n",
       "</table>\n",
       "<p>768 rows × 8 columns</p>\n",
       "</div>"
      ],
      "text/plain": [
       "     Pregnancies  Glucose  BloodPressure  SkinThickness  Insulin   BMI  \\\n",
       "0              6    148.0           72.0             35     30.5  33.6   \n",
       "1              1     85.0           66.0             29     30.5  26.6   \n",
       "2              8    183.0           64.0              0     30.5  23.3   \n",
       "3              1     89.0           66.0             23     94.0  28.1   \n",
       "4              0    137.0           40.0             35    168.0  43.1   \n",
       "..           ...      ...            ...            ...      ...   ...   \n",
       "763           10    101.0           76.0             48    180.0  32.9   \n",
       "764            2    122.0           70.0             27     30.5  36.8   \n",
       "765            5    121.0           72.0             23    112.0  26.2   \n",
       "766            1    126.0           60.0              0     30.5  30.1   \n",
       "767            1     93.0           70.0             31     30.5  30.4   \n",
       "\n",
       "     DiabetesPedigreeFunction  Age  \n",
       "0                       0.627   50  \n",
       "1                       0.351   31  \n",
       "2                       0.672   32  \n",
       "3                       0.167   21  \n",
       "4                       2.288   33  \n",
       "..                        ...  ...  \n",
       "763                     0.171   63  \n",
       "764                     0.340   27  \n",
       "765                     0.245   30  \n",
       "766                     0.349   47  \n",
       "767                     0.315   23  \n",
       "\n",
       "[768 rows x 8 columns]"
      ]
     },
     "execution_count": 18,
     "metadata": {},
     "output_type": "execute_result"
    }
   ],
   "source": [
    "x"
   ]
  },
  {
   "cell_type": "code",
   "execution_count": 19,
   "id": "c2721c1a",
   "metadata": {
    "execution": {
     "iopub.execute_input": "2023-02-19T14:33:11.117362Z",
     "iopub.status.busy": "2023-02-19T14:33:11.116902Z",
     "iopub.status.idle": "2023-02-19T14:33:11.126696Z",
     "shell.execute_reply": "2023-02-19T14:33:11.125181Z"
    },
    "papermill": {
     "duration": 0.025785,
     "end_time": "2023-02-19T14:33:11.129600",
     "exception": false,
     "start_time": "2023-02-19T14:33:11.103815",
     "status": "completed"
    },
    "tags": []
   },
   "outputs": [
    {
     "data": {
      "text/plain": [
       "0      1\n",
       "1      0\n",
       "2      1\n",
       "3      0\n",
       "4      1\n",
       "      ..\n",
       "763    0\n",
       "764    0\n",
       "765    0\n",
       "766    1\n",
       "767    0\n",
       "Name: Outcome, Length: 768, dtype: int64"
      ]
     },
     "execution_count": 19,
     "metadata": {},
     "output_type": "execute_result"
    }
   ],
   "source": [
    "y"
   ]
  },
  {
   "cell_type": "code",
   "execution_count": 20,
   "id": "9c2c195f",
   "metadata": {
    "execution": {
     "iopub.execute_input": "2023-02-19T14:33:11.157019Z",
     "iopub.status.busy": "2023-02-19T14:33:11.156591Z",
     "iopub.status.idle": "2023-02-19T14:33:11.409008Z",
     "shell.execute_reply": "2023-02-19T14:33:11.407784Z"
    },
    "papermill": {
     "duration": 0.269373,
     "end_time": "2023-02-19T14:33:11.411770",
     "exception": false,
     "start_time": "2023-02-19T14:33:11.142397",
     "status": "completed"
    },
    "tags": []
   },
   "outputs": [],
   "source": [
    "from sklearn.model_selection import train_test_split"
   ]
  },
  {
   "cell_type": "code",
   "execution_count": 21,
   "id": "7aa4cca7",
   "metadata": {
    "execution": {
     "iopub.execute_input": "2023-02-19T14:33:11.438792Z",
     "iopub.status.busy": "2023-02-19T14:33:11.438277Z",
     "iopub.status.idle": "2023-02-19T14:33:11.446851Z",
     "shell.execute_reply": "2023-02-19T14:33:11.445691Z"
    },
    "papermill": {
     "duration": 0.025276,
     "end_time": "2023-02-19T14:33:11.449800",
     "exception": false,
     "start_time": "2023-02-19T14:33:11.424524",
     "status": "completed"
    },
    "tags": []
   },
   "outputs": [],
   "source": [
    "x_train,x_test,y_train,y_test = train_test_split(x,y,test_size=0.10,random_state=123)"
   ]
  },
  {
   "cell_type": "code",
   "execution_count": 22,
   "id": "7d13998e",
   "metadata": {
    "execution": {
     "iopub.execute_input": "2023-02-19T14:33:11.477327Z",
     "iopub.status.busy": "2023-02-19T14:33:11.476835Z",
     "iopub.status.idle": "2023-02-19T14:33:11.484230Z",
     "shell.execute_reply": "2023-02-19T14:33:11.483043Z"
    },
    "papermill": {
     "duration": 0.0244,
     "end_time": "2023-02-19T14:33:11.486812",
     "exception": false,
     "start_time": "2023-02-19T14:33:11.462412",
     "status": "completed"
    },
    "tags": []
   },
   "outputs": [
    {
     "data": {
      "text/plain": [
       "(691, 8)"
      ]
     },
     "execution_count": 22,
     "metadata": {},
     "output_type": "execute_result"
    }
   ],
   "source": [
    "x_train.shape"
   ]
  },
  {
   "cell_type": "code",
   "execution_count": 23,
   "id": "41b3967e",
   "metadata": {
    "execution": {
     "iopub.execute_input": "2023-02-19T14:33:11.513192Z",
     "iopub.status.busy": "2023-02-19T14:33:11.512748Z",
     "iopub.status.idle": "2023-02-19T14:33:11.519579Z",
     "shell.execute_reply": "2023-02-19T14:33:11.518549Z"
    },
    "papermill": {
     "duration": 0.022482,
     "end_time": "2023-02-19T14:33:11.521775",
     "exception": false,
     "start_time": "2023-02-19T14:33:11.499293",
     "status": "completed"
    },
    "tags": []
   },
   "outputs": [
    {
     "data": {
      "text/plain": [
       "(691,)"
      ]
     },
     "execution_count": 23,
     "metadata": {},
     "output_type": "execute_result"
    }
   ],
   "source": [
    "y_train.shape"
   ]
  },
  {
   "cell_type": "code",
   "execution_count": 24,
   "id": "98ac1131",
   "metadata": {
    "execution": {
     "iopub.execute_input": "2023-02-19T14:33:11.548812Z",
     "iopub.status.busy": "2023-02-19T14:33:11.548330Z",
     "iopub.status.idle": "2023-02-19T14:33:11.555120Z",
     "shell.execute_reply": "2023-02-19T14:33:11.554235Z"
    },
    "papermill": {
     "duration": 0.022624,
     "end_time": "2023-02-19T14:33:11.557146",
     "exception": false,
     "start_time": "2023-02-19T14:33:11.534522",
     "status": "completed"
    },
    "tags": []
   },
   "outputs": [
    {
     "data": {
      "text/plain": [
       "(77, 8)"
      ]
     },
     "execution_count": 24,
     "metadata": {},
     "output_type": "execute_result"
    }
   ],
   "source": [
    "x_test.shape"
   ]
  },
  {
   "cell_type": "code",
   "execution_count": 25,
   "id": "3c4431d2",
   "metadata": {
    "execution": {
     "iopub.execute_input": "2023-02-19T14:33:11.583336Z",
     "iopub.status.busy": "2023-02-19T14:33:11.582857Z",
     "iopub.status.idle": "2023-02-19T14:33:11.589491Z",
     "shell.execute_reply": "2023-02-19T14:33:11.588284Z"
    },
    "papermill": {
     "duration": 0.022718,
     "end_time": "2023-02-19T14:33:11.591911",
     "exception": false,
     "start_time": "2023-02-19T14:33:11.569193",
     "status": "completed"
    },
    "tags": []
   },
   "outputs": [
    {
     "data": {
      "text/plain": [
       "(77,)"
      ]
     },
     "execution_count": 25,
     "metadata": {},
     "output_type": "execute_result"
    }
   ],
   "source": [
    "y_test.shape"
   ]
  },
  {
   "cell_type": "code",
   "execution_count": 26,
   "id": "fabf9159",
   "metadata": {
    "execution": {
     "iopub.execute_input": "2023-02-19T14:33:11.618271Z",
     "iopub.status.busy": "2023-02-19T14:33:11.617828Z",
     "iopub.status.idle": "2023-02-19T14:33:11.706675Z",
     "shell.execute_reply": "2023-02-19T14:33:11.705504Z"
    },
    "papermill": {
     "duration": 0.105372,
     "end_time": "2023-02-19T14:33:11.709558",
     "exception": false,
     "start_time": "2023-02-19T14:33:11.604186",
     "status": "completed"
    },
    "tags": []
   },
   "outputs": [],
   "source": [
    "from sklearn.linear_model import LogisticRegression"
   ]
  },
  {
   "cell_type": "code",
   "execution_count": 27,
   "id": "1ee73fa3",
   "metadata": {
    "execution": {
     "iopub.execute_input": "2023-02-19T14:33:11.736151Z",
     "iopub.status.busy": "2023-02-19T14:33:11.735743Z",
     "iopub.status.idle": "2023-02-19T14:33:11.741679Z",
     "shell.execute_reply": "2023-02-19T14:33:11.740263Z"
    },
    "papermill": {
     "duration": 0.022556,
     "end_time": "2023-02-19T14:33:11.744489",
     "exception": false,
     "start_time": "2023-02-19T14:33:11.721933",
     "status": "completed"
    },
    "tags": []
   },
   "outputs": [],
   "source": [
    "log_reg = LogisticRegression()"
   ]
  },
  {
   "cell_type": "code",
   "execution_count": 28,
   "id": "23b27993",
   "metadata": {
    "execution": {
     "iopub.execute_input": "2023-02-19T14:33:11.773579Z",
     "iopub.status.busy": "2023-02-19T14:33:11.773133Z",
     "iopub.status.idle": "2023-02-19T14:33:11.781354Z",
     "shell.execute_reply": "2023-02-19T14:33:11.780005Z"
    },
    "papermill": {
     "duration": 0.025031,
     "end_time": "2023-02-19T14:33:11.784091",
     "exception": false,
     "start_time": "2023-02-19T14:33:11.759060",
     "status": "completed"
    },
    "tags": []
   },
   "outputs": [
    {
     "data": {
      "text/plain": [
       "LogisticRegression()"
      ]
     },
     "execution_count": 28,
     "metadata": {},
     "output_type": "execute_result"
    }
   ],
   "source": [
    "log_reg"
   ]
  },
  {
   "cell_type": "code",
   "execution_count": 29,
   "id": "e4ad3489",
   "metadata": {
    "execution": {
     "iopub.execute_input": "2023-02-19T14:33:11.814394Z",
     "iopub.status.busy": "2023-02-19T14:33:11.813001Z",
     "iopub.status.idle": "2023-02-19T14:33:11.870947Z",
     "shell.execute_reply": "2023-02-19T14:33:11.869154Z"
    },
    "papermill": {
     "duration": 0.077391,
     "end_time": "2023-02-19T14:33:11.874355",
     "exception": false,
     "start_time": "2023-02-19T14:33:11.796964",
     "status": "completed"
    },
    "tags": []
   },
   "outputs": [
    {
     "name": "stderr",
     "output_type": "stream",
     "text": [
      "/opt/conda/lib/python3.7/site-packages/sklearn/linear_model/_logistic.py:818: ConvergenceWarning: lbfgs failed to converge (status=1):\n",
      "STOP: TOTAL NO. of ITERATIONS REACHED LIMIT.\n",
      "\n",
      "Increase the number of iterations (max_iter) or scale the data as shown in:\n",
      "    https://scikit-learn.org/stable/modules/preprocessing.html\n",
      "Please also refer to the documentation for alternative solver options:\n",
      "    https://scikit-learn.org/stable/modules/linear_model.html#logistic-regression\n",
      "  extra_warning_msg=_LOGISTIC_SOLVER_CONVERGENCE_MSG,\n"
     ]
    },
    {
     "data": {
      "text/plain": [
       "LogisticRegression()"
      ]
     },
     "execution_count": 29,
     "metadata": {},
     "output_type": "execute_result"
    }
   ],
   "source": [
    "log_reg.fit(x_train,y_train)"
   ]
  },
  {
   "cell_type": "code",
   "execution_count": 30,
   "id": "10139e2e",
   "metadata": {
    "execution": {
     "iopub.execute_input": "2023-02-19T14:33:11.902533Z",
     "iopub.status.busy": "2023-02-19T14:33:11.902070Z",
     "iopub.status.idle": "2023-02-19T14:33:11.911930Z",
     "shell.execute_reply": "2023-02-19T14:33:11.910766Z"
    },
    "papermill": {
     "duration": 0.02667,
     "end_time": "2023-02-19T14:33:11.914305",
     "exception": false,
     "start_time": "2023-02-19T14:33:11.887635",
     "status": "completed"
    },
    "tags": []
   },
   "outputs": [
    {
     "data": {
      "text/plain": [
       "array([1, 1, 1, 0, 0, 1, 1, 0, 1, 0, 1, 0, 0, 0, 1, 0, 1, 0, 0, 0, 1, 0,\n",
       "       0, 1, 1, 0, 0, 0, 0, 1, 0, 0, 1, 0, 0, 1, 1, 0, 0, 0, 0, 0, 0, 1,\n",
       "       0, 0, 1, 0, 0, 0, 0, 0, 0, 0, 0, 0, 0, 1, 1, 0, 0, 0, 1, 0, 0, 0,\n",
       "       1, 0, 0, 0, 0, 0, 1, 0, 1, 0, 0])"
      ]
     },
     "execution_count": 30,
     "metadata": {},
     "output_type": "execute_result"
    }
   ],
   "source": [
    "y_pred = log_reg.predict(x_test)\n",
    "y_pred"
   ]
  },
  {
   "cell_type": "code",
   "execution_count": 31,
   "id": "9559eec7",
   "metadata": {
    "execution": {
     "iopub.execute_input": "2023-02-19T14:33:11.941846Z",
     "iopub.status.busy": "2023-02-19T14:33:11.941165Z",
     "iopub.status.idle": "2023-02-19T14:33:11.946694Z",
     "shell.execute_reply": "2023-02-19T14:33:11.945824Z"
    },
    "papermill": {
     "duration": 0.022044,
     "end_time": "2023-02-19T14:33:11.949091",
     "exception": false,
     "start_time": "2023-02-19T14:33:11.927047",
     "status": "completed"
    },
    "tags": []
   },
   "outputs": [],
   "source": [
    "from sklearn.metrics import accuracy_score, f1_score,confusion_matrix"
   ]
  },
  {
   "cell_type": "code",
   "execution_count": 32,
   "id": "50991c79",
   "metadata": {
    "execution": {
     "iopub.execute_input": "2023-02-19T14:33:11.977330Z",
     "iopub.status.busy": "2023-02-19T14:33:11.976640Z",
     "iopub.status.idle": "2023-02-19T14:33:11.989897Z",
     "shell.execute_reply": "2023-02-19T14:33:11.988587Z"
    },
    "papermill": {
     "duration": 0.030409,
     "end_time": "2023-02-19T14:33:11.992422",
     "exception": false,
     "start_time": "2023-02-19T14:33:11.962013",
     "status": "completed"
    },
    "tags": []
   },
   "outputs": [
    {
     "data": {
      "text/plain": [
       "array([[41,  6],\n",
       "       [12, 18]])"
      ]
     },
     "execution_count": 32,
     "metadata": {},
     "output_type": "execute_result"
    }
   ],
   "source": [
    "confusion_matrix(y_test,y_pred)"
   ]
  },
  {
   "cell_type": "code",
   "execution_count": 33,
   "id": "cd7d381a",
   "metadata": {
    "execution": {
     "iopub.execute_input": "2023-02-19T14:33:12.020402Z",
     "iopub.status.busy": "2023-02-19T14:33:12.019959Z",
     "iopub.status.idle": "2023-02-19T14:33:12.028699Z",
     "shell.execute_reply": "2023-02-19T14:33:12.027493Z"
    },
    "papermill": {
     "duration": 0.025108,
     "end_time": "2023-02-19T14:33:12.030925",
     "exception": false,
     "start_time": "2023-02-19T14:33:12.005817",
     "status": "completed"
    },
    "tags": []
   },
   "outputs": [
    {
     "data": {
      "text/plain": [
       "0.7662337662337663"
      ]
     },
     "execution_count": 33,
     "metadata": {},
     "output_type": "execute_result"
    }
   ],
   "source": [
    "accuracy_score(y_test,y_pred)"
   ]
  }
 ],
 "metadata": {
  "kernelspec": {
   "display_name": "Python 3",
   "language": "python",
   "name": "python3"
  },
  "language_info": {
   "codemirror_mode": {
    "name": "ipython",
    "version": 3
   },
   "file_extension": ".py",
   "mimetype": "text/x-python",
   "name": "python",
   "nbconvert_exporter": "python",
   "pygments_lexer": "ipython3",
   "version": "3.7.12"
  },
  "papermill": {
   "default_parameters": {},
   "duration": 16.142723,
   "end_time": "2023-02-19T14:33:12.866738",
   "environment_variables": {},
   "exception": null,
   "input_path": "__notebook__.ipynb",
   "output_path": "__notebook__.ipynb",
   "parameters": {},
   "start_time": "2023-02-19T14:32:56.724015",
   "version": "2.3.4"
  }
 },
 "nbformat": 4,
 "nbformat_minor": 5
}
